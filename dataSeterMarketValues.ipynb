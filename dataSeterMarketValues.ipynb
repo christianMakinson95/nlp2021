{
 "cells": [
  {
   "cell_type": "code",
   "execution_count": 14,
   "id": "3bceb8fd",
   "metadata": {},
   "outputs": [],
   "source": [
    "import bitfinex as btf\n",
    "import pandas as pd\n",
    "import time\n",
    "from datetime import datetime"
   ]
  },
  {
   "cell_type": "code",
   "execution_count": 17,
   "id": "a7abed45",
   "metadata": {},
   "outputs": [],
   "source": [
    "def cleanTime(time):\n",
    "    return time.strftime(\"%Y-%m-%d %H:%M\")"
   ]
  },
  {
   "cell_type": "code",
   "execution_count": 6,
   "id": "4225fa7e",
   "metadata": {},
   "outputs": [
    {
     "name": "stdout",
     "output_type": "stream",
     "text": [
      "No keys, only access to public API functions\n"
     ]
    }
   ],
   "source": [
    "#Genero dataSet con valores financieros\n",
    "api_v2 = btf.bitfinex_v2.api_v2()"
   ]
  },
  {
   "cell_type": "code",
   "execution_count": 25,
   "id": "a03c6bd6",
   "metadata": {},
   "outputs": [],
   "source": [
    "#CREAR DATASET DE VALORES DE MERCADO\n",
    "pair = \"BTCUSD\"\n",
    "TIMEFRAME = '1m'\n",
    "\n",
    "t_start = datetime(2021,1,27,0,0)\n",
    "t_start = time.mktime(t_start.timetuple())*1000\n",
    "\n",
    "t_stop = datetime(2021,1,28,0,0)\n",
    "t_stop = time.mktime(t_stop.timetuple())*1000\n",
    "\n",
    "result = api_v2.candles(symbol = 'BTCUSD', interval = TIMEFRAME, limit = 10000, start = t_start, end = t_stop)\n",
    "\n",
    "camposDataFrame = ['Date','Open', 'Close', 'High', 'Low', 'Volume']\n",
    "df_market = pd.DataFrame(result, columns=camposDataFrame)\n",
    "df_market['Timestamp'] = df_market['Date']\n",
    "df_market['Date'] = pd.to_datetime(df_market['Date'], unit='ms')\n",
    "df_market['Date'] = df_market['Date'].apply(cleanTime)\n",
    "\n",
    "#df_market.head(5)\n",
    "df_market.to_csv (r'C:exportMarketData.csv',index=False, header=True, mode='a')"
   ]
  },
  {
   "cell_type": "code",
   "execution_count": null,
   "id": "e87b4c63",
   "metadata": {},
   "outputs": [],
   "source": []
  }
 ],
 "metadata": {
  "kernelspec": {
   "display_name": "Python 3",
   "language": "python",
   "name": "python3"
  },
  "language_info": {
   "codemirror_mode": {
    "name": "ipython",
    "version": 3
   },
   "file_extension": ".py",
   "mimetype": "text/x-python",
   "name": "python",
   "nbconvert_exporter": "python",
   "pygments_lexer": "ipython3",
   "version": "3.9.5"
  }
 },
 "nbformat": 4,
 "nbformat_minor": 5
}
