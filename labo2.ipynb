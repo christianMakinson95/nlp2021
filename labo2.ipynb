{
 "cells": [
  {
   "cell_type": "code",
   "execution_count": null,
   "id": "a0cb7faa",
   "metadata": {},
   "outputs": [],
   "source": [
    "import nltk\n",
    "nltk.download()"
   ]
  },
  {
   "cell_type": "code",
   "execution_count": 15,
   "id": "c360502a",
   "metadata": {},
   "outputs": [],
   "source": [
    "from nltk.book import *\n",
    "from nltk.corpus import wordnet as wn\n",
    "from nltk.corpus import treebank\n",
    "from nltk.corpus import brown\n",
    "from nltk import word_tokenize"
   ]
  },
  {
   "cell_type": "code",
   "execution_count": 10,
   "id": "59ab2081",
   "metadata": {},
   "outputs": [],
   "source": [
    "#nltk.help.upenn_tagset(\".*\")"
   ]
  },
  {
   "cell_type": "code",
   "execution_count": 11,
   "id": "ea45cfa5",
   "metadata": {},
   "outputs": [],
   "source": [
    "#treebank.fileids()"
   ]
  },
  {
   "cell_type": "code",
   "execution_count": 16,
   "id": "b41c16b5",
   "metadata": {},
   "outputs": [
    {
     "data": {
      "text/plain": [
       "[('The', 'AT'),\n",
       " ('Secretariat', 'NN-TL'),\n",
       " ('is', 'BEZ'),\n",
       " ('expected', 'VBN'),\n",
       " ('to', 'TO'),\n",
       " ('race', 'NN'),\n",
       " ('tomorrow', 'NR'),\n",
       " ('.', '.')]"
      ]
     },
     "execution_count": 16,
     "metadata": {},
     "output_type": "execute_result"
    }
   ],
   "source": [
    "unigram_tagger = nltk.tag.UnigramTagger(brown.tagged_sents(categories='news')[:5000])\n",
    "S = \"The Secretariat is expected to race tomorrow.\"\n",
    "S_tok = word_tokenize(S)\n",
    "unigram_tagger.tag(S_tok)"
   ]
  },
  {
   "cell_type": "code",
   "execution_count": 18,
   "id": "23d0302a",
   "metadata": {},
   "outputs": [
    {
     "data": {
      "text/plain": [
       "[('The', 'AT'),\n",
       " ('Secretariat', 'NN-TL'),\n",
       " ('is', 'BEZ'),\n",
       " ('expected', 'VBN'),\n",
       " ('to', 'TO'),\n",
       " ('race', 'VB'),\n",
       " ('tomorrow', 'NR'),\n",
       " ('.', '.')]"
      ]
     },
     "execution_count": 18,
     "metadata": {},
     "output_type": "execute_result"
    }
   ],
   "source": [
    "hmm_tagger =nltk.hmm.HiddenMarkovModelTrainer().train_supervised(brown.tagged_sents(categories=\"news\")[:5000])\n",
    "hmm_tagger.tag(S_tok)"
   ]
  },
  {
   "cell_type": "code",
   "execution_count": 20,
   "id": "732452f4",
   "metadata": {},
   "outputs": [],
   "source": [
    "#Ejercicio\n",
    "#https://www.learntek.org/blog/categorizing-pos-tagging-nltk-python/\n",
    "S = \"Juvenile Court to Try Shooting Defendant\"\n",
    "juvenile = nltk.tag.str2tuple('juvenile/JJ')\n",
    "court = nltk.tag.str2tuple('court/NN')\n",
    "to = nltk.tag.str2tuple('to/IN')\n",
    "tryW = nltk.tag.str2tuple('try/VB')\n",
    "shooting =nltk.tag.str2tuple('shooting/VBG')\n",
    "defendant = nltk.tag.str2tuple('defendant/JJ')\n",
    "\n",
    "S_tok = word_tokenize(S)\n",
    "unigram_tagger = nltk.tag.UnigramTagger(brown.tagged_sents(categories='news')[:5000])\n",
    "hmm_tagger =nltk.hmm.HiddenMarkovModelTrainer().train_supervised(brown.tagged_sents(categories=\"news\")[:5000])\n"
   ]
  },
  {
   "cell_type": "code",
   "execution_count": 22,
   "id": "b7e43828",
   "metadata": {},
   "outputs": [
    {
     "data": {
      "text/plain": [
       "0"
      ]
     },
     "execution_count": 22,
     "metadata": {},
     "output_type": "execute_result"
    }
   ],
   "source": [
    "text7.count(juvenile)"
   ]
  },
  {
   "cell_type": "code",
   "execution_count": 23,
   "id": "4b1286aa",
   "metadata": {},
   "outputs": [
    {
     "data": {
      "text/plain": [
       "[('Juvenile', 'JJ-TL'),\n",
       " ('Court', 'NN-TL'),\n",
       " ('to', 'TO'),\n",
       " ('Try', None),\n",
       " ('Shooting', None),\n",
       " ('Defendant', None)]"
      ]
     },
     "execution_count": 23,
     "metadata": {},
     "output_type": "execute_result"
    }
   ],
   "source": [
    "unigram_tagger.tag(S_tok)"
   ]
  },
  {
   "cell_type": "code",
   "execution_count": 24,
   "id": "e1ac3bbd",
   "metadata": {},
   "outputs": [
    {
     "data": {
      "text/plain": [
       "[('Juvenile', 'JJ-TL'),\n",
       " ('Court', 'NN-TL'),\n",
       " ('to', 'IN'),\n",
       " ('Try', 'AT'),\n",
       " ('Shooting', 'AT'),\n",
       " ('Defendant', 'AT')]"
      ]
     },
     "execution_count": 24,
     "metadata": {},
     "output_type": "execute_result"
    }
   ],
   "source": [
    "hmm_tagger.tag(S_tok)"
   ]
  },
  {
   "cell_type": "code",
   "execution_count": null,
   "id": "bc229dba",
   "metadata": {},
   "outputs": [],
   "source": []
  }
 ],
 "metadata": {
  "kernelspec": {
   "display_name": "Python 3",
   "language": "python",
   "name": "python3"
  },
  "language_info": {
   "codemirror_mode": {
    "name": "ipython",
    "version": 3
   },
   "file_extension": ".py",
   "mimetype": "text/x-python",
   "name": "python",
   "nbconvert_exporter": "python",
   "pygments_lexer": "ipython3",
   "version": "3.9.5"
  }
 },
 "nbformat": 4,
 "nbformat_minor": 5
}
