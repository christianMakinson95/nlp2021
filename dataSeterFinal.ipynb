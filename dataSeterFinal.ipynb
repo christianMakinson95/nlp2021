{
 "cells": [
  {
   "cell_type": "code",
   "execution_count": 2,
   "id": "3eac8e54",
   "metadata": {},
   "outputs": [
    {
     "name": "stdout",
     "output_type": "stream",
     "text": [
      "Collecting vaderSentiment\n",
      "  Using cached vaderSentiment-3.3.2-py2.py3-none-any.whl (125 kB)\n",
      "Requirement already satisfied: requests in c:\\users\\christian\\miniconda3\\lib\\site-packages (from vaderSentiment) (2.25.1)\n",
      "Requirement already satisfied: chardet<5,>=3.0.2 in c:\\users\\christian\\miniconda3\\lib\\site-packages (from requests->vaderSentiment) (4.0.0)\n",
      "Requirement already satisfied: urllib3<1.27,>=1.21.1 in c:\\users\\christian\\miniconda3\\lib\\site-packages (from requests->vaderSentiment) (1.26.4)\n",
      "Requirement already satisfied: certifi>=2017.4.17 in c:\\users\\christian\\miniconda3\\lib\\site-packages (from requests->vaderSentiment) (2021.5.30)\n",
      "Requirement already satisfied: idna<3,>=2.5 in c:\\users\\christian\\miniconda3\\lib\\site-packages (from requests->vaderSentiment) (2.10)\n",
      "Installing collected packages: vaderSentiment\n",
      "Successfully installed vaderSentiment-3.3.2\n",
      "Note: you may need to restart the kernel to use updated packages.\n"
     ]
    }
   ],
   "source": [
    "pip install vaderSentiment"
   ]
  },
  {
   "cell_type": "code",
   "execution_count": 1,
   "id": "d329a883",
   "metadata": {},
   "outputs": [
    {
     "name": "stdout",
     "output_type": "stream",
     "text": [
      "Collecting pandasNote: you may need to restart the kernel to use updated packages.\n",
      "\n",
      "  Using cached pandas-1.2.5-cp39-cp39-win_amd64.whl (9.3 MB)\n",
      "Requirement already satisfied: pytz>=2017.3 in c:\\users\\christian\\miniconda3\\lib\\site-packages (from pandas) (2021.1)\n",
      "Requirement already satisfied: numpy>=1.16.5 in c:\\users\\christian\\miniconda3\\lib\\site-packages (from pandas) (1.21.0)\n",
      "Requirement already satisfied: python-dateutil>=2.7.3 in c:\\users\\christian\\miniconda3\\lib\\site-packages (from pandas) (2.8.1)\n",
      "Requirement already satisfied: six>=1.5 in c:\\users\\christian\\miniconda3\\lib\\site-packages (from python-dateutil>=2.7.3->pandas) (1.16.0)\n",
      "Installing collected packages: pandas\n",
      "Successfully installed pandas-1.2.5\n"
     ]
    }
   ],
   "source": [
    "pip install pandas"
   ]
  },
  {
   "cell_type": "code",
   "execution_count": 72,
   "id": "acbee5bc",
   "metadata": {},
   "outputs": [
    {
     "name": "stdout",
     "output_type": "stream",
     "text": [
      "Requirement already satisfied: nltk in c:\\users\\christian\\miniconda3\\lib\\site-packages (3.6.2)Note: you may need to restart the kernel to use updated packages.\n",
      "\n",
      "Requirement already satisfied: tqdm in c:\\users\\christian\\miniconda3\\lib\\site-packages (from nltk) (4.61.1)\n",
      "Requirement already satisfied: click in c:\\users\\christian\\miniconda3\\lib\\site-packages (from nltk) (8.0.1)\n",
      "Requirement already satisfied: regex in c:\\users\\christian\\miniconda3\\lib\\site-packages (from nltk) (2021.4.4)\n",
      "Requirement already satisfied: joblib in c:\\users\\christian\\miniconda3\\lib\\site-packages (from nltk) (1.0.1)\n",
      "Requirement already satisfied: colorama in c:\\users\\christian\\miniconda3\\lib\\site-packages (from click->nltk) (0.4.4)\n"
     ]
    }
   ],
   "source": [
    "pip install nltk"
   ]
  },
  {
   "cell_type": "code",
   "execution_count": 73,
   "id": "a717821e",
   "metadata": {},
   "outputs": [
    {
     "name": "stdout",
     "output_type": "stream",
     "text": [
      "Requirement already satisfied: numpy in c:\\users\\christian\\miniconda3\\lib\\site-packages (1.21.0)\n",
      "Note: you may need to restart the kernel to use updated packages.\n"
     ]
    }
   ],
   "source": [
    "pip install numpy"
   ]
  },
  {
   "cell_type": "code",
   "execution_count": 4,
   "id": "11b829a3",
   "metadata": {},
   "outputs": [
    {
     "name": "stdout",
     "output_type": "stream",
     "text": [
      "Collecting tweepyNote: you may need to restart the kernel to use updated packages.\n",
      "  Using cached tweepy-3.10.0-py2.py3-none-any.whl (30 kB)\n",
      "Requirement already satisfied: requests[socks]>=2.11.1 in c:\\users\\christian\\miniconda3\\lib\\site-packages (from tweepy) (2.25.1)\n",
      "Requirement already satisfied: six>=1.10.0 in c:\\users\\christian\\miniconda3\\lib\\site-packages (from tweepy) (1.16.0)\n",
      "\n",
      "Collecting requests-oauthlib>=0.7.0\n",
      "  Using cached requests_oauthlib-1.3.0-py2.py3-none-any.whl (23 kB)\n",
      "Collecting oauthlib>=3.0.0\n",
      "  Using cached oauthlib-3.1.1-py2.py3-none-any.whl (146 kB)\n",
      "Requirement already satisfied: chardet<5,>=3.0.2 in c:\\users\\christian\\miniconda3\\lib\\site-packages (from requests[socks]>=2.11.1->tweepy) (4.0.0)\n",
      "Requirement already satisfied: urllib3<1.27,>=1.21.1 in c:\\users\\christian\\miniconda3\\lib\\site-packages (from requests[socks]>=2.11.1->tweepy) (1.26.4)\n",
      "Requirement already satisfied: certifi>=2017.4.17 in c:\\users\\christian\\miniconda3\\lib\\site-packages (from requests[socks]>=2.11.1->tweepy) (2021.5.30)\n",
      "Requirement already satisfied: idna<3,>=2.5 in c:\\users\\christian\\miniconda3\\lib\\site-packages (from requests[socks]>=2.11.1->tweepy) (2.10)\n",
      "Requirement already satisfied: PySocks!=1.5.7,>=1.5.6 in c:\\users\\christian\\miniconda3\\lib\\site-packages (from requests[socks]>=2.11.1->tweepy) (1.7.1)\n",
      "Installing collected packages: oauthlib, requests-oauthlib, tweepy\n",
      "Successfully installed oauthlib-3.1.1 requests-oauthlib-1.3.0 tweepy-3.10.0\n"
     ]
    }
   ],
   "source": [
    "pip install tweepy"
   ]
  },
  {
   "cell_type": "code",
   "execution_count": 6,
   "id": "6897b165",
   "metadata": {},
   "outputs": [
    {
     "name": "stdout",
     "output_type": "stream",
     "text": [
      "Collecting textblob\n",
      "  Using cached textblob-0.15.3-py2.py3-none-any.whl (636 kB)\n",
      "Collecting nltk>=3.1\n",
      "  Using cached nltk-3.6.2-py3-none-any.whl (1.5 MB)\n",
      "Collecting click\n",
      "  Using cached click-8.0.1-py3-none-any.whl (97 kB)\n",
      "Requirement already satisfied: tqdm in c:\\users\\christian\\miniconda3\\lib\\site-packages (from nltk>=3.1->textblob) (4.61.1)\n",
      "Collecting regex\n",
      "  Using cached regex-2021.4.4-cp39-cp39-win_amd64.whl (270 kB)\n",
      "Collecting joblib\n",
      "  Using cached joblib-1.0.1-py3-none-any.whl (303 kB)\n",
      "Requirement already satisfied: colorama in c:\\users\\christian\\miniconda3\\lib\\site-packages (from click->nltk>=3.1->textblob) (0.4.4)\n",
      "Installing collected packages: regex, joblib, click, nltk, textblob\n",
      "Successfully installed click-8.0.1 joblib-1.0.1 nltk-3.6.2 regex-2021.4.4 textblob-0.15.3\n",
      "Note: you may need to restart the kernel to use updated packages.\n"
     ]
    }
   ],
   "source": [
    "pip install textblob"
   ]
  },
  {
   "cell_type": "code",
   "execution_count": 7,
   "id": "706ac52e",
   "metadata": {},
   "outputs": [
    {
     "name": "stdout",
     "output_type": "stream",
     "text": [
      "Collecting mplfinance\n",
      "  Using cached mplfinance-0.12.7a17-py3-none-any.whl (62 kB)\n",
      "Requirement already satisfied: pandas in c:\\users\\christian\\miniconda3\\lib\\site-packages (from mplfinance) (1.2.5)\n",
      "Collecting matplotlibNote: you may need to restart the kernel to use updated packages.\n",
      "  Using cached matplotlib-3.4.2-cp39-cp39-win_amd64.whl (7.1 MB)\n",
      "Collecting cycler>=0.10\n",
      "  Using cached cycler-0.10.0-py2.py3-none-any.whl (6.5 kB)\n",
      "\n",
      "Requirement already satisfied: python-dateutil>=2.7 in c:\\users\\christian\\miniconda3\\lib\\site-packages (from matplotlib->mplfinance) (2.8.1)\n",
      "Requirement already satisfied: pyparsing>=2.2.1 in c:\\users\\christian\\miniconda3\\lib\\site-packages (from matplotlib->mplfinance) (2.4.7)\n",
      "Requirement already satisfied: numpy>=1.16 in c:\\users\\christian\\miniconda3\\lib\\site-packages (from matplotlib->mplfinance) (1.21.0)\n",
      "Collecting pillow>=6.2.0\n",
      "  Downloading Pillow-8.3.0-cp39-cp39-win_amd64.whl (2.3 MB)\n",
      "Collecting kiwisolver>=1.0.1\n",
      "  Using cached kiwisolver-1.3.1-cp39-cp39-win_amd64.whl (51 kB)\n",
      "Requirement already satisfied: six in c:\\users\\christian\\miniconda3\\lib\\site-packages (from cycler>=0.10->matplotlib->mplfinance) (1.16.0)\n",
      "Requirement already satisfied: pytz>=2017.3 in c:\\users\\christian\\miniconda3\\lib\\site-packages (from pandas->mplfinance) (2021.1)\n",
      "Installing collected packages: pillow, kiwisolver, cycler, matplotlib, mplfinance\n",
      "Successfully installed cycler-0.10.0 kiwisolver-1.3.1 matplotlib-3.4.2 mplfinance-0.12.7a17 pillow-8.3.0\n"
     ]
    }
   ],
   "source": [
    "pip install mplfinance"
   ]
  },
  {
   "cell_type": "code",
   "execution_count": 8,
   "id": "121a6db0",
   "metadata": {},
   "outputs": [
    {
     "name": "stdout",
     "output_type": "stream",
     "text": [
      "Requirement already satisfied: vaderSentiment in c:\\users\\christian\\miniconda3\\lib\\site-packages (3.3.2)\n",
      "Requirement already satisfied: requests in c:\\users\\christian\\miniconda3\\lib\\site-packages (from vaderSentiment) (2.25.1)\n",
      "Requirement already satisfied: chardet<5,>=3.0.2 in c:\\users\\christian\\miniconda3\\lib\\site-packages (from requests->vaderSentiment) (4.0.0)\n",
      "Requirement already satisfied: idna<3,>=2.5 in c:\\users\\christian\\miniconda3\\lib\\site-packages (from requests->vaderSentiment) (2.10)\n",
      "Requirement already satisfied: urllib3<1.27,>=1.21.1 in c:\\users\\christian\\miniconda3\\lib\\site-packages (from requests->vaderSentiment) (1.26.4)\n",
      "Requirement already satisfied: certifi>=2017.4.17 in c:\\users\\christian\\miniconda3\\lib\\site-packages (from requests->vaderSentiment) (2021.5.30)\n",
      "Note: you may need to restart the kernel to use updated packages.\n"
     ]
    }
   ],
   "source": [
    "pip install vaderSentiment"
   ]
  },
  {
   "cell_type": "code",
   "execution_count": 10,
   "id": "15d0df6f",
   "metadata": {},
   "outputs": [
    {
     "name": "stdout",
     "output_type": "stream",
     "text": [
      "Collecting sklearn\n",
      "  Using cached sklearn-0.0-py2.py3-none-any.whl\n",
      "Collecting scikit-learn\n",
      "  Using cached scikit_learn-0.24.2-cp39-cp39-win_amd64.whl (6.9 MB)\n",
      "Requirement already satisfied: joblib>=0.11 in c:\\users\\christian\\miniconda3\\lib\\site-packages (from scikit-learn->sklearn) (1.0.1)\n",
      "Collecting threadpoolctl>=2.0.0\n",
      "  Using cached threadpoolctl-2.1.0-py3-none-any.whl (12 kB)\n",
      "Requirement already satisfied: numpy>=1.13.3 in c:\\users\\christian\\miniconda3\\lib\\site-packages (from scikit-learn->sklearn) (1.21.0)\n",
      "Collecting scipy>=0.19.1\n",
      "  Using cached scipy-1.7.0-cp39-cp39-win_amd64.whl (33.8 MB)\n",
      "Installing collected packages: threadpoolctl, scipy, scikit-learn, sklearn\n",
      "Successfully installed scikit-learn-0.24.2 scipy-1.7.0 sklearn-0.0 threadpoolctl-2.1.0\n",
      "Note: you may need to restart the kernel to use updated packages.\n"
     ]
    }
   ],
   "source": [
    "pip install sklearn"
   ]
  },
  {
   "cell_type": "code",
   "execution_count": 12,
   "id": "0d6e73d8",
   "metadata": {},
   "outputs": [
    {
     "name": "stdout",
     "output_type": "stream",
     "text": [
      "Collecting pandas-datareader\n",
      "  Using cached pandas_datareader-0.9.0-py3-none-any.whl (107 kB)\n",
      "Collecting lxml\n",
      "  Using cached lxml-4.6.3-cp39-cp39-win_amd64.whl (3.5 MB)\n",
      "Requirement already satisfied: requests>=2.19.0 in c:\\users\\christian\\miniconda3\\lib\\site-packages (from pandas-datareader) (2.25.1)\n",
      "Requirement already satisfied: pandas>=0.23 in c:\\users\\christian\\miniconda3\\lib\\site-packages (from pandas-datareader) (1.2.5)\n",
      "Requirement already satisfied: pytz>=2017.3 in c:\\users\\christian\\miniconda3\\lib\\site-packages (from pandas>=0.23->pandas-datareader) (2021.1)\n",
      "Requirement already satisfied: numpy>=1.16.5 in c:\\users\\christian\\miniconda3\\lib\\site-packages (from pandas>=0.23->pandas-datareader) (1.21.0)\n",
      "Requirement already satisfied: python-dateutil>=2.7.3 in c:\\users\\christian\\miniconda3\\lib\\site-packages (from pandas>=0.23->pandas-datareader) (2.8.1)\n",
      "Requirement already satisfied: six>=1.5 in c:\\users\\christian\\miniconda3\\lib\\site-packages (from python-dateutil>=2.7.3->pandas>=0.23->pandas-datareader) (1.16.0)\n",
      "Requirement already satisfied: idna<3,>=2.5 in c:\\users\\christian\\miniconda3\\lib\\site-packages (from requests>=2.19.0->pandas-datareader) (2.10)\n",
      "Requirement already satisfied: certifi>=2017.4.17 in c:\\users\\christian\\miniconda3\\lib\\site-packages (from requests>=2.19.0->pandas-datareader) (2021.5.30)\n",
      "Requirement already satisfied: urllib3<1.27,>=1.21.1 in c:\\users\\christian\\miniconda3\\lib\\site-packages (from requests>=2.19.0->pandas-datareader) (1.26.4)\n",
      "Requirement already satisfied: chardet<5,>=3.0.2 in c:\\users\\christian\\miniconda3\\lib\\site-packages (from requests>=2.19.0->pandas-datareader) (4.0.0)\n",
      "Installing collected packages: lxml, pandas-datareader\n",
      "Successfully installed lxml-4.6.3 pandas-datareader-0.9.0\n",
      "Note: you may need to restart the kernel to use updated packages.\n"
     ]
    }
   ],
   "source": [
    "pip install pandas-datareader"
   ]
  },
  {
   "cell_type": "code",
   "execution_count": 14,
   "id": "9e9cb848",
   "metadata": {},
   "outputs": [
    {
     "name": "stdout",
     "output_type": "stream",
     "text": [
      "Collecting seaborn\n",
      "  Using cached seaborn-0.11.1-py3-none-any.whl (285 kB)\n",
      "Requirement already satisfied: pandas>=0.23 in c:\\users\\christian\\miniconda3\\lib\\site-packages (from seaborn) (1.2.5)\n",
      "Requirement already satisfied: matplotlib>=2.2 in c:\\users\\christian\\miniconda3\\lib\\site-packages (from seaborn) (3.4.2)\n",
      "Requirement already satisfied: numpy>=1.15 in c:\\users\\christian\\miniconda3\\lib\\site-packages (from seaborn) (1.21.0)\n",
      "Requirement already satisfied: scipy>=1.0 in c:\\users\\christian\\miniconda3\\lib\\site-packages (from seaborn) (1.7.0)\n",
      "Requirement already satisfied: python-dateutil>=2.7 in c:\\users\\christian\\miniconda3\\lib\\site-packages (from matplotlib>=2.2->seaborn) (2.8.1)\n",
      "Requirement already satisfied: kiwisolver>=1.0.1 in c:\\users\\christian\\miniconda3\\lib\\site-packages (from matplotlib>=2.2->seaborn) (1.3.1)\n",
      "Requirement already satisfied: pillow>=6.2.0 in c:\\users\\christian\\miniconda3\\lib\\site-packages (from matplotlib>=2.2->seaborn) (8.3.0)\n",
      "Requirement already satisfied: pyparsing>=2.2.1 in c:\\users\\christian\\miniconda3\\lib\\site-packages (from matplotlib>=2.2->seaborn) (2.4.7)\n",
      "Requirement already satisfied: cycler>=0.10 in c:\\users\\christian\\miniconda3\\lib\\site-packages (from matplotlib>=2.2->seaborn) (0.10.0)\n",
      "Requirement already satisfied: six in c:\\users\\christian\\miniconda3\\lib\\site-packages (from cycler>=0.10->matplotlib>=2.2->seaborn) (1.16.0)\n",
      "Requirement already satisfied: pytz>=2017.3 in c:\\users\\christian\\miniconda3\\lib\\site-packages (from pandas>=0.23->seaborn) (2021.1)\n",
      "Installing collected packages: seaborn\n",
      "Successfully installed seaborn-0.11.1\n",
      "Note: you may need to restart the kernel to use updated packages.\n"
     ]
    }
   ],
   "source": [
    "pip install seaborn"
   ]
  },
  {
   "cell_type": "code",
   "execution_count": 17,
   "id": "c47b60af",
   "metadata": {},
   "outputs": [
    {
     "name": "stdout",
     "output_type": "stream",
     "text": [
      "Collecting bitfinex-tencars\n",
      "  Downloading bitfinex_tencars-0.0.3-py3-none-any.whl (7.6 kB)\n",
      "Installing collected packages: bitfinex-tencars\n",
      "Successfully installed bitfinex-tencars-0.0.3\n",
      "Note: you may need to restart the kernel to use updated packages.\n"
     ]
    }
   ],
   "source": [
    "pip install bitfinex-tencars"
   ]
  },
  {
   "cell_type": "code",
   "execution_count": 99,
   "id": "518dab0f",
   "metadata": {},
   "outputs": [
    {
     "name": "stdout",
     "output_type": "stream",
     "text": [
      "Collecting pygooglenews\n",
      "  Downloading pygooglenews-0.1.2-py3-none-any.whl (10 kB)\n",
      "Collecting beautifulsoup4<5.0.0,>=4.9.1\n",
      "  Using cached beautifulsoup4-4.9.3-py3-none-any.whl (115 kB)\n",
      "Note: you may need to restart the kernel to use updated packages.Collecting dateparser<0.8.0,>=0.7.6\n",
      "  Downloading dateparser-0.7.6-py2.py3-none-any.whl (362 kB)\n",
      "Collecting feedparser<6.0.0,>=5.2.1\n",
      "\n",
      "  Downloading feedparser-5.2.1.zip (1.2 MB)\n",
      "Requirement already satisfied: requests<3.0.0,>=2.24.0 in c:\\users\\christian\\miniconda3\\lib\\site-packages (from pygooglenews) (2.25.1)\n",
      "Collecting soupsieve>1.2\n",
      "  Using cached soupsieve-2.2.1-py3-none-any.whl (33 kB)\n",
      "Requirement already satisfied: python-dateutil in c:\\users\\christian\\miniconda3\\lib\\site-packages (from dateparser<0.8.0,>=0.7.6->pygooglenews) (2.8.1)\n",
      "Requirement already satisfied: regex!=2019.02.19 in c:\\users\\christian\\miniconda3\\lib\\site-packages (from dateparser<0.8.0,>=0.7.6->pygooglenews) (2021.4.4)\n",
      "Collecting tzlocal\n",
      "  Downloading tzlocal-2.1-py2.py3-none-any.whl (16 kB)\n",
      "Requirement already satisfied: pytz in c:\\users\\christian\\miniconda3\\lib\\site-packages (from dateparser<0.8.0,>=0.7.6->pygooglenews) (2021.1)\n",
      "Requirement already satisfied: idna<3,>=2.5 in c:\\users\\christian\\miniconda3\\lib\\site-packages (from requests<3.0.0,>=2.24.0->pygooglenews) (2.10)\n",
      "Requirement already satisfied: chardet<5,>=3.0.2 in c:\\users\\christian\\miniconda3\\lib\\site-packages (from requests<3.0.0,>=2.24.0->pygooglenews) (4.0.0)\n",
      "Requirement already satisfied: certifi>=2017.4.17 in c:\\users\\christian\\miniconda3\\lib\\site-packages (from requests<3.0.0,>=2.24.0->pygooglenews) (2021.5.30)\n",
      "Requirement already satisfied: urllib3<1.27,>=1.21.1 in c:\\users\\christian\\miniconda3\\lib\\site-packages (from requests<3.0.0,>=2.24.0->pygooglenews) (1.26.4)\n",
      "Requirement already satisfied: six>=1.5 in c:\\users\\christian\\miniconda3\\lib\\site-packages (from python-dateutil->dateparser<0.8.0,>=0.7.6->pygooglenews) (1.16.0)\n",
      "Building wheels for collected packages: feedparser\n",
      "  Building wheel for feedparser (setup.py): started\n",
      "  Building wheel for feedparser (setup.py): finished with status 'done'\n",
      "  Created wheel for feedparser: filename=feedparser-5.2.1-py3-none-any.whl size=44940 sha256=86fa1e0c23843978ee067fb37e48e14706a92a80c7e0a9f59ebd4c32e0b7fa99\n",
      "  Stored in directory: c:\\users\\christian\\appdata\\local\\pip\\cache\\wheels\\ad\\17\\3c\\e592d2d4134d70d90519af0101c4fa67037bb6ce3b0f22af69\n",
      "Successfully built feedparser\n",
      "Installing collected packages: tzlocal, soupsieve, feedparser, dateparser, beautifulsoup4, pygooglenews\n",
      "Successfully installed beautifulsoup4-4.9.3 dateparser-0.7.6 feedparser-5.2.1 pygooglenews-0.1.2 soupsieve-2.2.1 tzlocal-2.1\n"
     ]
    }
   ],
   "source": [
    "pip install pygooglenews"
   ]
  },
  {
   "cell_type": "code",
   "execution_count": 112,
   "id": "27e6aa9c",
   "metadata": {},
   "outputs": [
    {
     "name": "stdout",
     "output_type": "stream",
     "text": [
      "Collecting GoogleNewsNote: you may need to restart the kernel to use updated packages.\n",
      "\n",
      "  Downloading GoogleNews-1.5.8-py3-none-any.whl (7.7 kB)\n",
      "Requirement already satisfied: beautifulsoup4 in c:\\users\\christian\\miniconda3\\lib\\site-packages (from GoogleNews) (4.9.3)\n",
      "Requirement already satisfied: dateparser in c:\\users\\christian\\miniconda3\\lib\\site-packages (from GoogleNews) (0.7.6)\n",
      "Requirement already satisfied: python-dateutil in c:\\users\\christian\\miniconda3\\lib\\site-packages (from GoogleNews) (2.8.1)\n",
      "Requirement already satisfied: soupsieve>1.2 in c:\\users\\christian\\miniconda3\\lib\\site-packages (from beautifulsoup4->GoogleNews) (2.2.1)\n",
      "Requirement already satisfied: tzlocal in c:\\users\\christian\\miniconda3\\lib\\site-packages (from dateparser->GoogleNews) (2.1)\n",
      "Requirement already satisfied: regex!=2019.02.19 in c:\\users\\christian\\miniconda3\\lib\\site-packages (from dateparser->GoogleNews) (2021.4.4)\n",
      "Requirement already satisfied: pytz in c:\\users\\christian\\miniconda3\\lib\\site-packages (from dateparser->GoogleNews) (2021.1)\n",
      "Requirement already satisfied: six>=1.5 in c:\\users\\christian\\miniconda3\\lib\\site-packages (from python-dateutil->GoogleNews) (1.16.0)\n",
      "Installing collected packages: GoogleNews\n",
      "Successfully installed GoogleNews-1.5.8\n"
     ]
    }
   ],
   "source": [
    "pip install GoogleNews"
   ]
  },
  {
   "cell_type": "code",
   "execution_count": 117,
   "id": "061c406d",
   "metadata": {},
   "outputs": [
    {
     "name": "stdout",
     "output_type": "stream",
     "text": [
      "Collecting newspaper3k\n",
      "  Downloading newspaper3k-0.2.8-py3-none-any.whl (211 kB)\n",
      "Collecting PyYAML>=3.11\n",
      "  Downloading PyYAML-5.4.1-cp39-cp39-win_amd64.whl (213 kB)\n",
      "Collecting tldextract>=2.0.1\n",
      "  Downloading tldextract-3.1.0-py2.py3-none-any.whl (87 kB)\n",
      "Requirement already satisfied: nltk>=3.2.1 in c:\\users\\christian\\miniconda3\\lib\\site-packages (from newspaper3k) (3.6.2)\n",
      "Collecting jieba3k>=0.35.1\n",
      "  Downloading jieba3k-0.35.1.zip (7.4 MB)\n",
      "Collecting tinysegmenter==0.3\n",
      "  Downloading tinysegmenter-0.3.tar.gz (16 kB)\n",
      "Requirement already satisfied: Pillow>=3.3.0 in c:\\users\\christian\\miniconda3\\lib\\site-packages (from newspaper3k) (8.3.0)\n",
      "Collecting feedfinder2>=0.0.4\n",
      "  Downloading feedfinder2-0.0.4.tar.gz (3.3 kB)\n",
      "Requirement already satisfied: feedparser>=5.2.1 in c:\\users\\christian\\miniconda3\\lib\\site-packages (from newspaper3k) (5.2.1)\n",
      "Collecting cssselect>=0.9.2\n",
      "  Using cached cssselect-1.1.0-py2.py3-none-any.whl (16 kB)\n",
      "Requirement already satisfied: lxml>=3.6.0 in c:\\users\\christian\\miniconda3\\lib\\site-packages (from newspaper3k) (4.6.3)\n",
      "Requirement already satisfied: python-dateutil>=2.5.3 in c:\\users\\christian\\miniconda3\\lib\\site-packages (from newspaper3k) (2.8.1)\n",
      "Requirement already satisfied: beautifulsoup4>=4.4.1 in c:\\users\\christian\\miniconda3\\lib\\site-packages (from newspaper3k) (4.9.3)\n",
      "Requirement already satisfied: requests>=2.10.0 in c:\\users\\christian\\miniconda3\\lib\\site-packages (from newspaper3k) (2.25.1)\n",
      "Requirement already satisfied: soupsieve>1.2 in c:\\users\\christian\\miniconda3\\lib\\site-packages (from beautifulsoup4>=4.4.1->newspaper3k) (2.2.1)\n",
      "Requirement already satisfied: six in c:\\users\\christian\\miniconda3\\lib\\site-packages (from feedfinder2>=0.0.4->newspaper3k) (1.16.0)\n",
      "Requirement already satisfied: regex in c:\\users\\christian\\miniconda3\\lib\\site-packages (from nltk>=3.2.1->newspaper3k) (2021.4.4)\n",
      "Requirement already satisfied: joblib in c:\\users\\christian\\miniconda3\\lib\\site-packages (from nltk>=3.2.1->newspaper3k) (1.0.1)\n",
      "Requirement already satisfied: tqdm in c:\\users\\christian\\miniconda3\\lib\\site-packages (from nltk>=3.2.1->newspaper3k) (4.61.1)\n",
      "Requirement already satisfied: click in c:\\users\\christian\\miniconda3\\lib\\site-packages (from nltk>=3.2.1->newspaper3k) (7.1.2)\n",
      "Requirement already satisfied: certifi>=2017.4.17 in c:\\users\\christian\\miniconda3\\lib\\site-packages (from requests>=2.10.0->newspaper3k) (2021.5.30)\n",
      "Requirement already satisfied: chardet<5,>=3.0.2 in c:\\users\\christian\\miniconda3\\lib\\site-packages (from requests>=2.10.0->newspaper3k) (4.0.0)\n",
      "Requirement already satisfied: urllib3<1.27,>=1.21.1 in c:\\users\\christian\\miniconda3\\lib\\site-packages (from requests>=2.10.0->newspaper3k) (1.26.4)\n",
      "Requirement already satisfied: idna<3,>=2.5 in c:\\users\\christian\\miniconda3\\lib\\site-packages (from requests>=2.10.0->newspaper3k) (2.10)\n",
      "Collecting requests-file>=1.4\n",
      "  Downloading requests_file-1.5.1-py2.py3-none-any.whl (3.7 kB)\n",
      "Collecting filelock>=3.0.8\n",
      "  Using cached filelock-3.0.12-py3-none-any.whl (7.6 kB)\n",
      "Building wheels for collected packages: tinysegmenter, feedfinder2, jieba3k\n",
      "  Building wheel for tinysegmenter (setup.py): started\n",
      "  Building wheel for tinysegmenter (setup.py): finished with status 'done'\n",
      "  Created wheel for tinysegmenter: filename=tinysegmenter-0.3-py3-none-any.whl size=13537 sha256=da39b3ae7c36bc93a64c64bdf161804d054da3b3a6200a1b5c3af61a24feb1d6\n",
      "  Stored in directory: c:\\users\\christian\\appdata\\local\\pip\\cache\\wheels\\94\\ad\\df\\a2a01300cea47d5695f242f7e925a805970106fd9e4b151468\n",
      "  Building wheel for feedfinder2 (setup.py): started\n",
      "  Building wheel for feedfinder2 (setup.py): finished with status 'done'\n",
      "  Created wheel for feedfinder2: filename=feedfinder2-0.0.4-py3-none-any.whl size=3354 sha256=38724fe31aaa322e3ff47e2d5244bae189fe0b7f8b6a510ae4e84497ddc5609b\n",
      "  Stored in directory: c:\\users\\christian\\appdata\\local\\pip\\cache\\wheels\\43\\4a\\c2\\61a371b2524ac90805391c660d8dc4505705297f25e2b85a5d\n",
      "  Building wheel for jieba3k (setup.py): started\n",
      "  Building wheel for jieba3k (setup.py): finished with status 'done'\n",
      "  Created wheel for jieba3k: filename=jieba3k-0.35.1-py3-none-any.whl size=7398406 sha256=d7c43a617899fe120df178b75214a88c316cf1d0ffc9e1113dd11e90363241db\n",
      "  Stored in directory: c:\\users\\christian\\appdata\\local\\pip\\cache\\wheels\\c2\\22\\59\\8214a8d6357e9f540ce1f37f9a4362b6156b4ca81b37f1945f\n",
      "Successfully built tinysegmenter feedfinder2 jieba3k\n",
      "Installing collected packages: requests-file, filelock, tldextract, tinysegmenter, PyYAML, jieba3k, feedfinder2, cssselect, newspaper3k\n",
      "Successfully installed PyYAML-5.4.1 cssselect-1.1.0 feedfinder2-0.0.4 filelock-3.0.12 jieba3k-0.35.1 newspaper3k-0.2.8 requests-file-1.5.1 tinysegmenter-0.3 tldextract-3.1.0\n",
      "Note: you may need to restart the kernel to use updated packages.\n"
     ]
    }
   ],
   "source": [
    "pip install newspaper3k"
   ]
  },
  {
   "cell_type": "code",
   "execution_count": 2,
   "id": "e158d835",
   "metadata": {},
   "outputs": [
    {
     "name": "stdout",
     "output_type": "stream",
     "text": [
      "Requirement already satisfied: pyresparser in c:\\users\\christian\\miniconda3\\lib\\site-packages (1.0.6)\n",
      "Requirement already satisfied: nltk>=3.4.3 in c:\\users\\christian\\miniconda3\\lib\\site-packages (from pyresparser) (3.6.2)\n",
      "Requirement already satisfied: preshed>=2.0.1 in c:\\users\\christian\\miniconda3\\lib\\site-packages (from pyresparser) (3.0.5)\n",
      "Requirement already satisfied: docx2txt>=0.7 in c:\\users\\christian\\miniconda3\\lib\\site-packages (from pyresparser) (0.8)\n",
      "Requirement already satisfied: six>=1.12.0 in c:\\users\\christian\\miniconda3\\lib\\site-packages (from pyresparser) (1.16.0)\n",
      "Requirement already satisfied: spacy>=2.1.4 in c:\\users\\christian\\appdata\\roaming\\python\\python39\\site-packages (from pyresparser) (2.3.5)\n",
      "Requirement already satisfied: chardet>=3.0.4 in c:\\users\\christian\\miniconda3\\lib\\site-packages (from pyresparser) (4.0.0)\n",
      "Requirement already satisfied: pandas>=0.24.2 in c:\\users\\christian\\miniconda3\\lib\\site-packages (from pyresparser) (1.2.5)\n",
      "Requirement already satisfied: tqdm>=4.32.2 in c:\\users\\christian\\miniconda3\\lib\\site-packages (from pyresparser) (4.61.1)\n",
      "Requirement already satisfied: urllib3>=1.25.3 in c:\\users\\christian\\miniconda3\\lib\\site-packages (from pyresparser) (1.26.4)\n",
      "Requirement already satisfied: certifi>=2019.6.16 in c:\\users\\christian\\miniconda3\\lib\\site-packages (from pyresparser) (2021.5.30)\n",
      "Requirement already satisfied: pytz>=2019.1 in c:\\users\\christian\\miniconda3\\lib\\site-packages (from pyresparser) (2021.1)\n",
      "Requirement already satisfied: numpy>=1.16.4 in c:\\users\\christian\\miniconda3\\lib\\site-packages (from pyresparser) (1.21.0)\n",
      "Requirement already satisfied: pyrsistent>=0.15.2 in c:\\users\\christian\\miniconda3\\lib\\site-packages (from pyresparser) (0.17.3)\n",
      "Requirement already satisfied: blis>=0.2.4 in c:\\users\\christian\\miniconda3\\lib\\site-packages (from pyresparser) (0.7.4)\n",
      "Requirement already satisfied: sortedcontainers>=2.1.0 in c:\\users\\christian\\miniconda3\\lib\\site-packages (from pyresparser) (2.4.0)\n",
      "Requirement already satisfied: wasabi>=0.2.2 in c:\\users\\christian\\miniconda3\\lib\\site-packages (from pyresparser) (0.8.2)\n",
      "Requirement already satisfied: pdfminer.six>=20181108 in c:\\users\\christian\\miniconda3\\lib\\site-packages (from pyresparser) (20201018)\n",
      "Requirement already satisfied: attrs>=19.1.0 in c:\\users\\christian\\miniconda3\\lib\\site-packages (from pyresparser) (21.2.0)Note: you may need to restart the kernel to use updated packages.\n",
      "Requirement already satisfied: srsly>=0.0.7 in c:\\users\\christian\\appdata\\roaming\\python\\python39\\site-packages (from pyresparser) (1.0.5)\n",
      "Requirement already satisfied: cymem>=2.0.2 in c:\\users\\christian\\miniconda3\\lib\\site-packages (from pyresparser) (2.0.5)\n",
      "Requirement already satisfied: thinc>=7.0.4 in c:\\users\\christian\\appdata\\roaming\\python\\python39\\site-packages (from pyresparser) (7.4.5)\n",
      "Requirement already satisfied: jsonschema>=3.0.1 in c:\\users\\christian\\miniconda3\\lib\\site-packages (from pyresparser) (3.2.0)\n",
      "Requirement already satisfied: idna>=2.8 in c:\\users\\christian\\miniconda3\\lib\\site-packages (from pyresparser) (2.10)\n",
      "Requirement already satisfied: requests>=2.22.0 in c:\\users\\christian\\miniconda3\\lib\\site-packages (from pyresparser) (2.25.1)\n",
      "Requirement already satisfied: python-dateutil>=2.8.0 in c:\\users\\christian\\miniconda3\\lib\\site-packages (from pyresparser) (2.8.1)\n",
      "Requirement already satisfied: pycryptodome>=3.8.2 in c:\\users\\christian\\miniconda3\\lib\\site-packages (from pyresparser) (3.10.1)\n",
      "Requirement already satisfied: setuptools in c:\\users\\christian\\miniconda3\\lib\\site-packages (from jsonschema>=3.0.1->pyresparser) (52.0.0.post20210125)\n",
      "Requirement already satisfied: regex in c:\\users\\christian\\miniconda3\\lib\\site-packages (from nltk>=3.4.3->pyresparser) (2021.4.4)\n",
      "Requirement already satisfied: click in c:\\users\\christian\\miniconda3\\lib\\site-packages (from nltk>=3.4.3->pyresparser) (7.1.2)\n",
      "Requirement already satisfied: joblib in c:\\users\\christian\\miniconda3\\lib\\site-packages (from nltk>=3.4.3->pyresparser) (1.0.1)\n",
      "Requirement already satisfied: cryptography in c:\\users\\christian\\miniconda3\\lib\\site-packages (from pdfminer.six>=20181108->pyresparser) (3.4.7)\n",
      "Requirement already satisfied: murmurhash<1.1.0,>=0.28.0 in c:\\users\\christian\\miniconda3\\lib\\site-packages (from preshed>=2.0.1->pyresparser) (1.0.5)\n",
      "Requirement already satisfied: plac<1.2.0,>=0.9.6 in c:\\users\\christian\\miniconda3\\lib\\site-packages (from spacy>=2.1.4->pyresparser) (1.1.3)\n",
      "Requirement already satisfied: catalogue<1.1.0,>=0.0.7 in c:\\users\\christian\\appdata\\roaming\\python\\python39\\site-packages (from spacy>=2.1.4->pyresparser) (1.0.0)\n",
      "Requirement already satisfied: cffi>=1.12 in c:\\users\\christian\\miniconda3\\lib\\site-packages (from cryptography->pdfminer.six>=20181108->pyresparser) (1.14.5)\n",
      "Requirement already satisfied: pycparser in c:\\users\\christian\\miniconda3\\lib\\site-packages (from cffi>=1.12->cryptography->pdfminer.six>=20181108->pyresparser) (2.20)\n",
      "\n"
     ]
    }
   ],
   "source": [
    "pip install pyresparser"
   ]
  },
  {
   "cell_type": "code",
   "execution_count": 12,
   "id": "0cedb6d6",
   "metadata": {},
   "outputs": [
    {
     "name": "stdout",
     "output_type": "stream",
     "text": [
      "Requirement already satisfied: spacy in c:\\users\\christian\\miniconda3\\lib\\site-packages (3.0.6)\n",
      "Requirement already satisfied: spacy-legacy<3.1.0,>=3.0.4 in c:\\users\\christian\\miniconda3\\lib\\site-packages (from spacy) (3.0.6)\n",
      "Requirement already satisfied: murmurhash<1.1.0,>=0.28.0 in c:\\users\\christian\\miniconda3\\lib\\site-packages (from spacy) (1.0.5)\n",
      "Requirement already satisfied: requests<3.0.0,>=2.13.0 in c:\\users\\christian\\miniconda3\\lib\\site-packages (from spacy) (2.25.1)\n",
      "Requirement already satisfied: cymem<2.1.0,>=2.0.2 in c:\\users\\christian\\miniconda3\\lib\\site-packages (from spacy) (2.0.5)\n",
      "Requirement already satisfied: setuptools in c:\\users\\christian\\miniconda3\\lib\\site-packages (from spacy) (52.0.0.post20210125)\n",
      "Requirement already satisfied: wasabi<1.1.0,>=0.8.1 in c:\\users\\christian\\miniconda3\\lib\\site-packages (from spacy) (0.8.2)\n",
      "Requirement already satisfied: typer<0.4.0,>=0.3.0 in c:\\users\\christian\\miniconda3\\lib\\site-packages (from spacy) (0.3.2)\n",
      "Requirement already satisfied: pathy>=0.3.5 in c:\\users\\christian\\miniconda3\\lib\\site-packages (from spacy) (0.6.0)\n",
      "Requirement already satisfied: packaging>=20.0 in c:\\users\\christian\\miniconda3\\lib\\site-packages (from spacy) (20.9)\n",
      "Requirement already satisfied: pydantic<1.8.0,>=1.7.1 in c:\\users\\christian\\appdata\\roaming\\python\\python39\\site-packages (from spacy) (1.7.4)\n",
      "Requirement already satisfied: jinja2 in c:\\users\\christian\\miniconda3\\lib\\site-packages (from spacy) (3.0.0)\n",
      "Requirement already satisfied: srsly<3.0.0,>=2.4.1 in c:\\users\\christian\\miniconda3\\lib\\site-packages (from spacy) (2.4.1)\n",
      "Requirement already satisfied: blis<0.8.0,>=0.4.0 in c:\\users\\christian\\appdata\\roaming\\python\\python39\\site-packages (from spacy) (0.7.4)\n",
      "Requirement already satisfied: thinc<8.1.0,>=8.0.3 in c:\\users\\christian\\appdata\\roaming\\python\\python39\\site-packages (from spacy) (8.0.7)\n",
      "Requirement already satisfied: catalogue<2.1.0,>=2.0.3 in c:\\users\\christian\\miniconda3\\lib\\site-packages (from spacy) (2.0.4)\n",
      "Requirement already satisfied: tqdm<5.0.0,>=4.38.0 in c:\\users\\christian\\miniconda3\\lib\\site-packages (from spacy) (4.61.1)\n",
      "Requirement already satisfied: preshed<3.1.0,>=3.0.2 in c:\\users\\christian\\appdata\\roaming\\python\\python39\\site-packages (from spacy) (3.0.5)\n",
      "Requirement already satisfied: numpy>=1.15.0 in c:\\users\\christian\\miniconda3\\lib\\site-packages (from spacy) (1.21.0)\n",
      "Requirement already satisfied: pyparsing>=2.0.2 in c:\\users\\christian\\miniconda3\\lib\\site-packages (from packaging>=20.0->spacy) (2.4.7)\n",
      "Requirement already satisfied: smart-open<6.0.0,>=5.0.0 in c:\\users\\christian\\appdata\\roaming\\python\\python39\\site-packages (from pathy>=0.3.5->spacy) (5.1.0)\n",
      "Requirement already satisfied: idna<3,>=2.5 in c:\\users\\christian\\miniconda3\\lib\\site-packages (from requests<3.0.0,>=2.13.0->spacy) (2.10)\n",
      "Requirement already satisfied: certifi>=2017.4.17 in c:\\users\\christian\\miniconda3\\lib\\site-packages (from requests<3.0.0,>=2.13.0->spacy) (2021.5.30)\n",
      "Requirement already satisfied: chardet<5,>=3.0.2 in c:\\users\\christian\\miniconda3\\lib\\site-packages (from requests<3.0.0,>=2.13.0->spacy) (4.0.0)\n",
      "Requirement already satisfied: urllib3<1.27,>=1.21.1 in c:\\users\\christian\\miniconda3\\lib\\site-packages (from requests<3.0.0,>=2.13.0->spacy) (1.26.4)\n",
      "Requirement already satisfied: click<7.2.0,>=7.1.1 in c:\\users\\christian\\miniconda3\\lib\\site-packages (from typer<0.4.0,>=0.3.0->spacy) (7.1.2)\n",
      "Requirement already satisfied: MarkupSafe>=2.0.0rc2 in c:\\users\\christian\\appdata\\roaming\\python\\python39\\site-packages (from jinja2->spacy) (2.0.1)\n",
      "Note: you may need to restart the kernel to use updated packages.\n"
     ]
    }
   ],
   "source": [
    "pip install spacy"
   ]
  },
  {
   "cell_type": "code",
   "execution_count": 75,
   "id": "49858045",
   "metadata": {},
   "outputs": [
    {
     "name": "stdout",
     "output_type": "stream",
     "text": [
      "Collecting praw\n",
      "  Downloading praw-7.3.0-py3-none-any.whl (165 kB)\n",
      "Collecting update-checker>=0.18\n",
      "  Downloading update_checker-0.18.0-py3-none-any.whl (7.0 kB)\n",
      "Collecting prawcore<3,>=2.1\n",
      "  Downloading prawcore-2.2.0-py3-none-any.whl (15 kB)\n",
      "Collecting websocket-client>=0.54.0\n",
      "  Downloading websocket_client-1.1.0-py2.py3-none-any.whl (68 kB)\n",
      "Requirement already satisfied: requests<3.0,>=2.6.0 in c:\\users\\christian\\miniconda3\\lib\\site-packages (from prawcore<3,>=2.1->praw) (2.25.1)\n",
      "Requirement already satisfied: chardet<5,>=3.0.2 in c:\\users\\christian\\miniconda3\\lib\\site-packages (from requests<3.0,>=2.6.0->prawcore<3,>=2.1->praw) (4.0.0)\n",
      "Requirement already satisfied: certifi>=2017.4.17 in c:\\users\\christian\\miniconda3\\lib\\site-packages (from requests<3.0,>=2.6.0->prawcore<3,>=2.1->praw) (2021.5.30)\n",
      "Requirement already satisfied: idna<3,>=2.5 in c:\\users\\christian\\miniconda3\\lib\\site-packages (from requests<3.0,>=2.6.0->prawcore<3,>=2.1->praw) (2.10)\n",
      "Requirement already satisfied: urllib3<1.27,>=1.21.1 in c:\\users\\christian\\miniconda3\\lib\\site-packages (from requests<3.0,>=2.6.0->prawcore<3,>=2.1->praw) (1.26.4)\n",
      "Installing collected packages: websocket-client, update-checker, prawcore, praw\n",
      "Successfully installed praw-7.3.0 prawcore-2.2.0 update-checker-0.18.0 websocket-client-1.1.0\n",
      "Note: you may need to restart the kernel to use updated packages.\n"
     ]
    }
   ],
   "source": [
    "pip install praw"
   ]
  },
  {
   "cell_type": "code",
   "execution_count": 93,
   "id": "a5e583ce",
   "metadata": {},
   "outputs": [
    {
     "name": "stdout",
     "output_type": "stream",
     "text": [
      "Collecting ftfyNote: you may need to restart the kernel to use updated packages.\n",
      "  Downloading ftfy-6.0.3.tar.gz (64 kB)\n",
      "\n",
      "Requirement already satisfied: wcwidth in c:\\users\\christian\\miniconda3\\lib\\site-packages (from ftfy) (0.2.5)\n",
      "Building wheels for collected packages: ftfy\n",
      "  Building wheel for ftfy (setup.py): started\n",
      "  Building wheel for ftfy (setup.py): finished with status 'done'\n",
      "  Created wheel for ftfy: filename=ftfy-6.0.3-py3-none-any.whl size=41913 sha256=7bda12bc771e087055b7a774972dabf1699a075232f20e0a7b6473e305aab8c3\n",
      "  Stored in directory: c:\\users\\christian\\appdata\\local\\pip\\cache\\wheels\\3d\\ee\\4b\\03a4e2e591ea56687aff999edc83827a2ace523baab75b8e41\n",
      "Successfully built ftfy\n",
      "Installing collected packages: ftfy\n",
      "Successfully installed ftfy-6.0.3\n"
     ]
    }
   ],
   "source": [
    "pip install ftfy"
   ]
  },
  {
   "cell_type": "code",
   "execution_count": null,
   "id": "1f5209d9",
   "metadata": {},
   "outputs": [],
   "source": []
  },
  {
   "cell_type": "code",
   "execution_count": 2,
   "id": "d3b5b2fe",
   "metadata": {},
   "outputs": [],
   "source": [
    "import pandas as pd\n",
    "import pandas_datareader as web\n",
    "import tweepy\n",
    "import numpy as np\n",
    "from textblob import TextBlob\n",
    "\n",
    "from datetime import datetime\n",
    "\n",
    "from datetime import timedelta\n",
    "from dataclasses import make_dataclass\n",
    "\n",
    "import re\n",
    "import emoji\n",
    "from vaderSentiment.vaderSentiment import SentimentIntensityAnalyzer\n",
    "\n",
    "from sklearn.model_selection import train_test_split\n",
    "from sklearn.metrics import accuracy_score, classification_report\n",
    "from sklearn.discriminant_analysis import LinearDiscriminantAnalysis\n",
    "\n",
    "import matplotlib.pyplot as plt\n",
    "import mplfinance as mpf\n",
    "import seaborn as sns\n",
    "\n",
    "import time\n",
    "\n",
    "import nltk\n",
    "from nltk.corpus import stopwords\n",
    "from nltk.tokenize import word_tokenize\n",
    "from nltk.stem import WordNetLemmatizer \n",
    "from nltk import ngrams\n",
    "from collections import Counter\n",
    "\n",
    "import spacy \n",
    "from spacy import displacy\n",
    "\n",
    "from GoogleNews import GoogleNews\n",
    "from newspaper import Article\n",
    "from newspaper import Config\n",
    "\n",
    "import praw\n",
    "\n",
    "#nltk.download('punkt')\n",
    "#nltk.download('stopwords')\n",
    "#nltk.download('wordnet')\n",
    "\n",
    "#Acceso a Twitter API\n",
    "consumerKey = \"TwlSxQ7X0qOJ9XPYi0RRGFmPy\"\n",
    "consumerSecret = \"4QCBGcgWOOhHWXe0SwDu5UMVGVSZvnZujkHhacliUQeBigM7ZS\"\n",
    "accessToken = \"1083093878893432836-HW9vv7t1xihZvZvq0YdomkNKPzFnWe\"\n",
    "accessTokenSecret = \"PW8gxDGBCaNcprbkIb0uEQstg5tUzL55KRWEOI8Vqz2U9\"\n",
    "\n",
    "authenticate = tweepy.OAuthHandler(consumerKey, consumerSecret)\n",
    "authenticate.set_access_token(accessToken, accessTokenSecret)\n",
    "api = tweepy.API(authenticate, wait_on_rate_limit=True)\n",
    "\n",
    "\n",
    "# Obtengo los tweets\n",
    "# Proceso los tweets para eliminar elementos no deseados como @ o demas\n",
    "# Genero Data Frame de Tweets\n",
    "# Obtengo la data financiera\n",
    "# genero Data Frame de dataFin\n",
    "# Obtengo noticias\n",
    "# Proceso las noticias para eliminar elementos no deseados como @ o demas\n",
    "# Genero Data Frame de Noticias"
   ]
  },
  {
   "cell_type": "code",
   "execution_count": 3,
   "id": "db3e271c",
   "metadata": {},
   "outputs": [],
   "source": [
    "#Uso metodo de TextBlob para primer dato de subjetividad/polaridad\n",
    "def getSubjectivity(text):\n",
    "  return TextBlob(text).sentiment.subjectivity\n",
    "\n",
    "#Create a function to get polarity\n",
    "def getPolarity(text):\n",
    "  return TextBlob(text).sentiment.polarity"
   ]
  },
  {
   "cell_type": "code",
   "execution_count": 4,
   "id": "29fd77d0",
   "metadata": {},
   "outputs": [],
   "source": [
    "def word_frequency(sentence):\n",
    "    sentence =\" \".join(sentence)\n",
    "    new_tokens = word_tokenize(sentence)\n",
    "    new_tokens = [t.lower() for t in new_tokens]\n",
    "    new_tokens =[t for t in new_tokens if t not in stopwords.words('english')]\n",
    "    new_tokens = [t for t in new_tokens if t.isalpha()]\n",
    "    lemmatizer = WordNetLemmatizer()\n",
    "    new_tokens =[lemmatizer.lemmatize(t) for t in new_tokens]\n",
    "    counted = Counter(new_tokens)\n",
    "    counted_2= Counter(ngrams(new_tokens,2))\n",
    "    counted_3= Counter(ngrams(new_tokens,3))\n",
    "    word_freq = pd.DataFrame(counted.items(),columns=['word','frequency']).sort_values(by='frequency',ascending=False)\n",
    "    word_pairs =pd.DataFrame(counted_2.items(),columns=['pairs','frequency']).sort_values(by='frequency',ascending=False)\n",
    "    trigrams =pd.DataFrame(counted_3.items(),columns=['trigrams','frequency']).sort_values(by='frequency',ascending=False)\n",
    "    return word_freq,word_pairs,trigrams"
   ]
  },
  {
   "cell_type": "code",
   "execution_count": 5,
   "id": "5d10298f",
   "metadata": {},
   "outputs": [],
   "source": [
    "def clean_words(new_tokens):\n",
    "    new_tokens = [t.lower() for t in new_tokens]\n",
    "    new_tokens =[t for t in new_tokens if t not in stopwords.words('english')]\n",
    "    new_tokens = [t for t in new_tokens if t.isalpha()]\n",
    "    lemmatizer = WordNetLemmatizer()\n",
    "    new_tokens =[lemmatizer.lemmatize(t) for t in new_tokens]\n",
    "    return new_tokens"
   ]
  },
  {
   "cell_type": "code",
   "execution_count": 6,
   "id": "eba5057e",
   "metadata": {},
   "outputs": [],
   "source": [
    "#Labeleador\n",
    "def labeleador(df, ls):\n",
    "    df['Subjectivity'] = ls.apply(getSubjectivity)\n",
    "    df['Polarity'] = ls.apply(getPolarity)\n",
    "    labels=[]\n",
    "    for i in range(len(df)):\n",
    "        if df['Polarity'][i]>0:\n",
    "            labels.append(1)\n",
    "        else:\n",
    "            labels.append(0)\n",
    "    df['Label']=labels\n",
    "    return df"
   ]
  },
  {
   "cell_type": "code",
   "execution_count": 7,
   "id": "4313167b",
   "metadata": {},
   "outputs": [],
   "source": [
    "#LimpiaTexto\n",
    "def cleanText(twt):\n",
    "    EMOJI_PATTERN = re.compile(\n",
    "    \"[\"\n",
    "    \"\\U0001F1E0-\\U0001F1FF\"  # flags (iOS)\n",
    "    \"\\U0001F300-\\U0001F5FF\"  # symbols & pictographs\n",
    "    \"\\U0001F600-\\U0001F64F\"  # emoticons\n",
    "    \"\\U0001F680-\\U0001F6FF\"  # transport & map symbols\n",
    "    \"\\U0001F700-\\U0001F77F\"  # alchemical symbols\n",
    "    \"\\U0001F780-\\U0001F7FF\"  # Geometric Shapes Extended\n",
    "    \"\\U0001F800-\\U0001F8FF\"  # Supplemental Arrows-C\n",
    "    \"\\U0001F900-\\U0001F9FF\"  # Supplemental Symbols and Pictographs\n",
    "    \"\\U0001FA00-\\U0001FA6F\"  # Chess Symbols\n",
    "    \"\\U0001FA70-\\U0001FAFF\"  # Symbols and Pictographs Extended-A\n",
    "    \"\\U00002702-\\U000027B0\"  # Dingbats\n",
    "    \"\\U000024C2-\\U0001F251\" \n",
    "    \"]+\"\n",
    "    )\n",
    "    twt = re.sub('#[A-Za-z0-9]+','',twt) #Removes any string with hash\n",
    "    twt = re.sub(r'[0-9]+', '', twt)\n",
    "    twt = re.sub('@[A-Za-z0-9]+','',twt) #Removes any string with at\n",
    "    twt = re.sub('\\\\n','',twt) #Remove \\n caracter\n",
    "    twt = EMOJI_PATTERN.sub(r'', twt)\n",
    "    twt = twt.replace('!','').replace('-','').replace('_','')\n",
    "    twt = re.sub('https?:\\/\\/\\S+','',twt) #Removes hastag\n",
    "    return twt\n",
    "def cleanTime(time):\n",
    "    return time.strftime(\"%Y-%m-%d %H:%M\")\n",
    "def cleanTimeStamp(time):\n",
    "    return datetime.fromtimestamp(time).strftime('%Y-%m-%d %H:%M')"
   ]
  },
  {
   "cell_type": "code",
   "execution_count": 8,
   "id": "7098b6a3",
   "metadata": {},
   "outputs": [],
   "source": [
    "#GOOGLEGETER\n",
    "def get_titles(search):\n",
    "  search = gn.search(search)\n",
    "  newsitem = search['entries']\n",
    "  for item in newsitem:\n",
    "    story = {\n",
    "        'title':item.title,\n",
    "        'date': item.published,\n",
    "        'link': item.link\n",
    "    }\n",
    "    stories.append(story)\n",
    "  return stories"
   ]
  },
  {
   "cell_type": "code",
   "execution_count": 9,
   "id": "e6c94dec",
   "metadata": {},
   "outputs": [],
   "source": [
    "#REDDITGETTER\n",
    "def reddit_subreddit(subreddit):\n",
    "    subreddit = reddit.subreddit(subreddit)\n",
    "    hot_posts = subreddit.top(limit=10)\n",
    "    \n",
    "    blank_dic = {'id':[],'author':[],'created':[],'title':[]}\n",
    "    for submission in hot_posts:\n",
    "        if not submission.stickied:\n",
    "            blank_dic['id'].append(submission.id)\n",
    "            blank_dic['author'].append(submission.author)\n",
    "            blank_dic['created'].append(submission.created)\n",
    "            blank_dic['title'].append(submission.title)\n",
    "    return blank_dic"
   ]
  },
  {
   "cell_type": "code",
   "execution_count": 10,
   "id": "399ede66",
   "metadata": {},
   "outputs": [],
   "source": [
    "#cryptos=['LUNA','SOL','XRP','BTC','DOGE','EGLD','ICX','ALPHA','SUSHI','FIL','BNB','XMR','ETC','TRX','ATOM','LTC','QNT','VET','XTZ','ADA','DOT']\n",
    "#cryptoPairing = applyPairing(cryptos)\n",
    "analyzedCrypto='$BTC'\n",
    "mySince=\"2021-06-27\"\n",
    "myUntil=\"2021-06-28\"\n",
    "stories = []"
   ]
  },
  {
   "cell_type": "code",
   "execution_count": 280,
   "id": "23a80422",
   "metadata": {},
   "outputs": [],
   "source": [
    "#CREAR DATASET DE TWEETS\n",
    "cantidadDeTweetsBuscados = 500\n",
    "#loopeo para obtener y almacenar info de todas las monedas\n",
    "\n",
    "search_term = analyzedCrypto+' -filter:retweets'\n",
    "#mySince = datetime.now()-timedelta(minutes=30)\n",
    "#mySince = mySince.strftime(\"%Y-%m-%d %H:%M:%S\")\n",
    "#myUntil = datetime.now().strftime(\"%Y-%m-%d %H:%M:%S\")\n",
    "\n",
    "tweets = tweepy.Cursor(api.search, q=search_term, lang ='en', since=mySince, until=myUntil, tweet_mode='extended').items(cantidadDeTweetsBuscados)\n",
    "all_tweets = [tweet.full_text for tweet in tweets]\n",
    "\n",
    "tweets = tweepy.Cursor(api.search, q=search_term, lang ='en', since=mySince, until=myUntil,  tweet_mode='extended').items(cantidadDeTweetsBuscados)\n",
    "all_dates = [tweet.created_at for tweet in tweets]\n",
    "\n",
    "\n",
    "formatoDataSetTweets = {'Date': all_dates, 'Tweets': all_tweets}\n",
    "df_tweets = pd.DataFrame(data=formatoDataSetTweets)\n",
    "\n",
    "df_tweets['Tweets'] = df_tweets['Tweets'].apply(cleanText)\n",
    "df_tweets['Date'] = df_tweets['Date'].apply(cleanTime)\n",
    "\n",
    "df_tweets.to_csv (r'C:exportTweetData.csv',index=False, header=True, mode='w')"
   ]
  },
  {
   "cell_type": "code",
   "execution_count": 14,
   "id": "8eb544e7",
   "metadata": {},
   "outputs": [],
   "source": [
    "#CREAR DATASET DE NOTICIAS DE GOOGLE\n",
    "googlenews=GoogleNews(start='06/28/2021',end='06/28/2021')\n",
    "googlenews.search('Bitcoin')\n",
    "result=googlenews.result()\n",
    "camposDataFrame = ['title','media', 'datetime', 'desc']\n",
    "df_news=pd.DataFrame(result,columns=camposDataFrame)\n",
    "df_news['title']=df_news['title'].apply(cleanText)\n",
    "df_news['desc']=df_news['desc'].apply(cleanText)\n",
    "df_news.columns = ['Title','Media', 'Date', 'Desc']\n",
    "#df_news['Date'] = df_news['Date'].apply(cleanTime)\n",
    "\n",
    "df_news.to_csv (r'C:exportNewsData.csv', index = True, mode='w')"
   ]
  },
  {
   "cell_type": "code",
   "execution_count": 339,
   "id": "73143a3b",
   "metadata": {},
   "outputs": [],
   "source": [
    "#CREAR DATASET DE REDDIT\n",
    "reddit = praw.Reddit(client_id=\"9Oyya70ilYvf4Q\",client_secret = \"zU7zR0u-swkLyZukaN-O3iETaWLDNQ\", username=\"Comfortable-Voice-33\", password=\"reddit@95\",user_agent=\"nlp\")\n",
    "mySinceTimeStamp = time.mktime(datetime.strptime(mySince, \"%Y-%m-%d\").timetuple())\n",
    "str_query = '/^Bitcoin$/'\n",
    "r = reddit_subreddit('SatoshiStreetBets')\n",
    "df_reddit = pd.DataFrame(r)\n",
    "df_reddit.columns=['IdUser','nameUser','Date','Title']\n",
    "df_reddit['Date'] = df_reddit['Date'].map(cleanTimeStamp)\n",
    "df_reddit['Title'] = df_reddit['Title'].apply(cleanText)\n",
    "\n",
    "df_reddit.to_csv (r'C:exportRedditData.csv', index = False, header=True, mode='w')"
   ]
  },
  {
   "cell_type": "code",
   "execution_count": null,
   "id": "1fbbb2da",
   "metadata": {},
   "outputs": [],
   "source": []
  }
 ],
 "metadata": {
  "kernelspec": {
   "display_name": "Python 3",
   "language": "python",
   "name": "python3"
  },
  "language_info": {
   "codemirror_mode": {
    "name": "ipython",
    "version": 3
   },
   "file_extension": ".py",
   "mimetype": "text/x-python",
   "name": "python",
   "nbconvert_exporter": "python",
   "pygments_lexer": "ipython3",
   "version": "3.9.5"
  }
 },
 "nbformat": 4,
 "nbformat_minor": 5
}
