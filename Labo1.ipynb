{
 "cells": [
  {
   "cell_type": "code",
   "execution_count": 38,
   "id": "841811dc",
   "metadata": {},
   "outputs": [
    {
     "name": "stdout",
     "output_type": "stream",
     "text": [
      "Collecting lexical_diversity\n",
      "  Downloading lexical_diversity-0.1.1-py3-none-any.whl (117 kB)\n",
      "Installing collected packages: lexical-diversity\n",
      "Successfully installed lexical-diversity-0.1.1\n",
      "Note: you may need to restart the kernel to use updated packages.\n"
     ]
    }
   ],
   "source": [
    "pip install lexical_diversity"
   ]
  },
  {
   "cell_type": "code",
   "execution_count": 39,
   "id": "10d9e08a",
   "metadata": {},
   "outputs": [],
   "source": [
    "import nltk\n",
    "#nltk.download()\n",
    "from nltk.book import * \n",
    "from itertools import groupby\n",
    "from collections import Counter\n",
    "from lexicalrichness import LexicalRichness\n",
    "from lexical_diversity import lex_div as ld"
   ]
  },
  {
   "cell_type": "code",
   "execution_count": 4,
   "id": "8a83c4d0",
   "metadata": {},
   "outputs": [
    {
     "data": {
      "text/plain": [
       "['[', 'Moby', 'Dick', 'by', 'Herman']"
      ]
     },
     "execution_count": 4,
     "metadata": {},
     "output_type": "execute_result"
    }
   ],
   "source": [
    "text1.tokens[0:5]"
   ]
  },
  {
   "cell_type": "code",
   "execution_count": 63,
   "id": "4dc45cf0",
   "metadata": {},
   "outputs": [
    {
     "data": {
      "text/plain": [
       "['In', 'the', 'beginning', 'God', 'created']"
      ]
     },
     "execution_count": 63,
     "metadata": {},
     "output_type": "execute_result"
    }
   ],
   "source": [
    "text7.tokens[0:5]"
   ]
  },
  {
   "cell_type": "code",
   "execution_count": 7,
   "id": "30397461",
   "metadata": {},
   "outputs": [],
   "source": [
    "from nltk import word_tokenize"
   ]
  },
  {
   "cell_type": "code",
   "execution_count": 8,
   "id": "8d6c13de",
   "metadata": {},
   "outputs": [
    {
     "data": {
      "text/plain": [
       "['The', 'cat', 'sat', 'on', 'the', 'mat', '.']"
      ]
     },
     "execution_count": 8,
     "metadata": {},
     "output_type": "execute_result"
    }
   ],
   "source": [
    "mysent = \"The cat sat on the mat.\"\n",
    "mysent_tokens = word_tokenize(mysent)\n",
    "mysent_tokens"
   ]
  },
  {
   "cell_type": "code",
   "execution_count": 9,
   "id": "688ca431",
   "metadata": {},
   "outputs": [],
   "source": [
    "from nltk import re"
   ]
  },
  {
   "cell_type": "code",
   "execution_count": 10,
   "id": "ae5e4296",
   "metadata": {},
   "outputs": [],
   "source": [
    "m = re.search(\"lang\", \"procesamiento del lenguaje natural\") "
   ]
  },
  {
   "cell_type": "code",
   "execution_count": 12,
   "id": "3307024e",
   "metadata": {},
   "outputs": [
    {
     "data": {
      "text/plain": [
       "17140"
      ]
     },
     "execution_count": 12,
     "metadata": {},
     "output_type": "execute_result"
    }
   ],
   "source": [
    "#Ejercicio 1\n",
    "moby_dick_tokens = text1.tokens\n",
    "moby_dick_tokens_nopunct = [word.lower() for word in moby_dick_tokens if re.search(\"\\w\", word)]\n",
    "len(set(moby_dick_tokens_nopunct))"
   ]
  },
  {
   "cell_type": "code",
   "execution_count": 42,
   "id": "e2308955",
   "metadata": {},
   "outputs": [
    {
     "data": {
      "text/plain": [
       "<Text: Moby Dick by Herman Melville 1851>"
      ]
     },
     "execution_count": 42,
     "metadata": {},
     "output_type": "execute_result"
    }
   ],
   "source": [
    "text1"
   ]
  },
  {
   "cell_type": "code",
   "execution_count": 86,
   "id": "3654e795",
   "metadata": {},
   "outputs": [],
   "source": [
    "#Ejercicio 2\n",
    "data = [line.strip() for line in text1]\n",
    "texts = [[word.lower() for word in text.split()] for text in data]\n",
    "#https://stackoverflow.com/questions/10880813/typeerror-sequence-item-0-expected-string-int-found\n",
    "values = ' '.join(map(str, texts))\n",
    "#https://pypi.org/project/lexicalrichness/\n",
    "lex = LexicalRichness(values)\n"
   ]
  },
  {
   "cell_type": "code",
   "execution_count": 87,
   "id": "352d00db",
   "metadata": {},
   "outputs": [
    {
     "data": {
      "text/plain": [
       "218382"
      ]
     },
     "execution_count": 87,
     "metadata": {},
     "output_type": "execute_result"
    }
   ],
   "source": [
    "lex.words"
   ]
  },
  {
   "cell_type": "code",
   "execution_count": 88,
   "id": "fd498759",
   "metadata": {},
   "outputs": [
    {
     "data": {
      "text/plain": [
       "0.005614015807163594"
      ]
     },
     "execution_count": 88,
     "metadata": {},
     "output_type": "execute_result"
    }
   ],
   "source": [
    "#Ejercicio 7\n",
    "frecuenciaWale = values.count(\"[\\'whale\\']\")\n",
    "probabilidadWale = frecuenciaWale / lex.words\n",
    "probabilidadWale"
   ]
  },
  {
   "cell_type": "code",
   "execution_count": 89,
   "id": "6ea45dd8",
   "metadata": {},
   "outputs": [
    {
     "data": {
      "text/plain": [
       "16950"
      ]
     },
     "execution_count": 89,
     "metadata": {},
     "output_type": "execute_result"
    }
   ],
   "source": [
    "lex.terms"
   ]
  },
  {
   "cell_type": "code",
   "execution_count": 90,
   "id": "e7458473",
   "metadata": {},
   "outputs": [
    {
     "data": {
      "text/plain": [
       "0.07761628705662554"
      ]
     },
     "execution_count": 90,
     "metadata": {},
     "output_type": "execute_result"
    }
   ],
   "source": [
    "#EJERCICIO 3\n",
    "lex.ttr"
   ]
  },
  {
   "cell_type": "code",
   "execution_count": 91,
   "id": "235b968b",
   "metadata": {},
   "outputs": [
    {
     "data": {
      "text/plain": [
       "105.62277158310286"
      ]
     },
     "execution_count": 91,
     "metadata": {},
     "output_type": "execute_result"
    }
   ],
   "source": [
    "lex.mtld(threshold=0.72)"
   ]
  },
  {
   "cell_type": "code",
   "execution_count": 92,
   "id": "6c5b32a6",
   "metadata": {},
   "outputs": [],
   "source": [
    "#Ejercicio 4\n",
    "data = [line.strip() for line in text7]\n",
    "texts = [[word.lower() for word in text.split()] for text in data]\n",
    "#https://stackoverflow.com/questions/10880813/typeerror-sequence-item-0-expected-string-int-found\n",
    "values = ' '.join(map(str, texts))\n",
    "#https://pypi.org/project/lexicalrichness/\n",
    "lex = LexicalRichness(values)"
   ]
  },
  {
   "cell_type": "code",
   "execution_count": 93,
   "id": "f45686ff",
   "metadata": {},
   "outputs": [
    {
     "data": {
      "text/plain": [
       "0.11882611637347767"
      ]
     },
     "execution_count": 93,
     "metadata": {},
     "output_type": "execute_result"
    }
   ],
   "source": [
    "lex.ttr"
   ]
  },
  {
   "cell_type": "code",
   "execution_count": 94,
   "id": "14403930",
   "metadata": {},
   "outputs": [],
   "source": [
    "#Ejercicio 5\n",
    "#Tiene mas diversidad el Wsj"
   ]
  },
  {
   "cell_type": "code",
   "execution_count": 95,
   "id": "c43d9286",
   "metadata": {},
   "outputs": [],
   "source": [
    "#Ejercicio 6\n",
    "#Puede que sea mas diverso por el tipo de palabras utilizadas. Moby dick al ser un cuento con una tematica particular tiene menos"
   ]
  },
  {
   "cell_type": "code",
   "execution_count": 96,
   "id": "d22c58a2",
   "metadata": {},
   "outputs": [
    {
     "data": {
      "text/plain": [
       "0.0"
      ]
     },
     "execution_count": 96,
     "metadata": {},
     "output_type": "execute_result"
    }
   ],
   "source": [
    "#Ejercicio 7\n",
    "frecuenciaWale = values.count(\"[\\'whale\\']\")\n",
    "probabilidadWale = frecuenciaWale / lex.words\n",
    "probabilidadWale"
   ]
  },
  {
   "cell_type": "code",
   "execution_count": null,
   "id": "bdbba3af",
   "metadata": {},
   "outputs": [],
   "source": []
  }
 ],
 "metadata": {
  "kernelspec": {
   "display_name": "Python 3",
   "language": "python",
   "name": "python3"
  },
  "language_info": {
   "codemirror_mode": {
    "name": "ipython",
    "version": 3
   },
   "file_extension": ".py",
   "mimetype": "text/x-python",
   "name": "python",
   "nbconvert_exporter": "python",
   "pygments_lexer": "ipython3",
   "version": "3.9.5"
  }
 },
 "nbformat": 4,
 "nbformat_minor": 5
}
