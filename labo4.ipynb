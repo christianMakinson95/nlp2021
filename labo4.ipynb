{
 "cells": [
  {
   "cell_type": "code",
   "execution_count": 22,
   "id": "a73aed11",
   "metadata": {},
   "outputs": [],
   "source": [
    "import nltk \n",
    "from nltk.book import *\n",
    "from nltk.corpus import wordnet as wn\n",
    "from nltk.wsd import lesk\n",
    "from nltk import word_tokenize\n",
    "from nltk.stem import WordNetLemmatizer"
   ]
  },
  {
   "cell_type": "code",
   "execution_count": 4,
   "id": "7478146a",
   "metadata": {},
   "outputs": [
    {
     "data": {
      "text/plain": [
       "[Synset('dog.n.01'),\n",
       " Synset('frump.n.01'),\n",
       " Synset('dog.n.03'),\n",
       " Synset('cad.n.01'),\n",
       " Synset('frank.n.02'),\n",
       " Synset('pawl.n.01'),\n",
       " Synset('andiron.n.01'),\n",
       " Synset('chase.v.01')]"
      ]
     },
     "execution_count": 4,
     "metadata": {},
     "output_type": "execute_result"
    }
   ],
   "source": [
    "wn.synsets('dog')"
   ]
  },
  {
   "cell_type": "code",
   "execution_count": 7,
   "id": "ec5b420a",
   "metadata": {},
   "outputs": [
    {
     "ename": "NameError",
     "evalue": "name 'Synset' is not defined",
     "output_type": "error",
     "traceback": [
      "\u001b[1;31m---------------------------------------------------------------------------\u001b[0m",
      "\u001b[1;31mNameError\u001b[0m                                 Traceback (most recent call last)",
      "\u001b[1;32m<ipython-input-7-f16643537143>\u001b[0m in \u001b[0;36m<module>\u001b[1;34m\u001b[0m\n\u001b[1;32m----> 1\u001b[1;33m \u001b[0mwn\u001b[0m\u001b[1;33m.\u001b[0m\u001b[0msynsets\u001b[0m\u001b[1;33m(\u001b[0m\u001b[1;34m'dog'\u001b[0m\u001b[1;33m,\u001b[0m \u001b[0mpos\u001b[0m\u001b[1;33m=\u001b[0m\u001b[0mwn\u001b[0m\u001b[1;33m.\u001b[0m\u001b[0mVERB\u001b[0m\u001b[1;33m)\u001b[0m\u001b[1;33m[\u001b[0m\u001b[0mSynset\u001b[0m\u001b[1;33m(\u001b[0m\u001b[1;34m'chase.v.01'\u001b[0m\u001b[1;33m)\u001b[0m\u001b[1;33m]\u001b[0m\u001b[1;33m\u001b[0m\u001b[1;33m\u001b[0m\u001b[0m\n\u001b[0m",
      "\u001b[1;31mNameError\u001b[0m: name 'Synset' is not defined"
     ]
    }
   ],
   "source": [
    "wn.synsets('dog', pos=wn.VERB)[Synset('chase.v.01')] "
   ]
  },
  {
   "cell_type": "code",
   "execution_count": 8,
   "id": "ac6f877c",
   "metadata": {},
   "outputs": [
    {
     "data": {
      "text/plain": [
       "Synset('frump.n.01')"
      ]
     },
     "execution_count": 8,
     "metadata": {},
     "output_type": "execute_result"
    }
   ],
   "source": [
    "wn.synset('frump.n.01')"
   ]
  },
  {
   "cell_type": "code",
   "execution_count": 12,
   "id": "baa4ccb5",
   "metadata": {},
   "outputs": [
    {
     "name": "stdout",
     "output_type": "stream",
     "text": [
      "Synset('bank.n.05')\n"
     ]
    }
   ],
   "source": [
    "S = \"The bank can guarantee deposits will eventually cover future tuition costs because it invests in adjustable-rate mortgage securities.\"\n",
    "S_tok = word_tokenize(S)\n",
    "print(lesk(S_tok, 'bank', 'n'))"
   ]
  },
  {
   "cell_type": "code",
   "execution_count": 67,
   "id": "089948e8",
   "metadata": {},
   "outputs": [],
   "source": [
    "def mylesk(context_sentence, ambiguous_word, pos=None, synsets=None):\n",
    "    \"\"\"Return a synset for an ambiguous word in a context.\n",
    "\n",
    "    :param iter context_sentence: The context sentence where the ambiguous word\n",
    "         occurs, passed as an iterable of words.\n",
    "    :param str ambiguous_word: The ambiguous word that requires WSD.\n",
    "    :param str pos: A specified Part-of-Speech (POS).\n",
    "    :param iter synsets: Possible synsets of the ambiguous word.\n",
    "    :return: ``lesk_sense`` The Synset() object with the highest signature overlaps.\n",
    "\n",
    "    This function is an implementation of the original Lesk algorithm (1986) [1].\n",
    "\n",
    "    Usage example::\n",
    "\n",
    "        >>> lesk(['I', 'went', 'to', 'the', 'bank', 'to', 'deposit', 'money', '.'], 'bank', 'n')\n",
    "        Synset('savings_bank.n.02')\n",
    "\n",
    "    [1] Lesk, Michael. \"Automatic sense disambiguation using machine\n",
    "    readable dictionaries: how to tell a pine cone from an ice cream\n",
    "    cone.\" Proceedings of the 5th Annual International Conference on\n",
    "    Systems Documentation. ACM, 1986.\n",
    "    http://dl.acm.org/citation.cfm?id=318728\n",
    "    \"\"\"\n",
    "    \n",
    "    context = set(context_sentence)\n",
    "    newText = []\n",
    "    wnLemmatizer = WordNetLemmatizer()\n",
    "    for token in S_tok:\n",
    "        newText.append(wnLemmatizer.lemmatize(token)) \n",
    "    newText = set(newText)\n",
    "    if synsets is None:\n",
    "        synsets = wordnet.synsets(ambiguous_word)\n",
    "\n",
    "    if pos:\n",
    "        synsets = [ss for ss in synsets if str(ss.pos()) == pos]\n",
    "\n",
    "    if not synsets:\n",
    "        return None\n",
    "\n",
    "    _, sense = max(\n",
    "        (len(newText.intersection(ss.definition().split())), ss) for ss in synsets\n",
    "    )\n",
    "\n",
    "    return sense"
   ]
  },
  {
   "cell_type": "code",
   "execution_count": 15,
   "id": "7ac9b3ca",
   "metadata": {},
   "outputs": [
    {
     "data": {
      "text/plain": [
       "{'deposits'}"
      ]
     },
     "execution_count": 15,
     "metadata": {},
     "output_type": "execute_result"
    }
   ],
   "source": [
    "l = word_tokenize((wn.synset('bank.n.05').definition())) \n",
    "m = word_tokenize((wn.synset('bank.n.02').definition())) \n",
    "k = set(S_tok)\n",
    "k.intersection(l)\n",
    "k.intersection(m)"
   ]
  },
  {
   "cell_type": "code",
   "execution_count": 16,
   "id": "e11dba63",
   "metadata": {},
   "outputs": [
    {
     "name": "stdout",
     "output_type": "stream",
     "text": [
      "Synset('savings_bank.n.02')\n"
     ]
    }
   ],
   "source": [
    "S = \"I went to the bank to deposit some money.\"\n",
    "S_tok = word_tokenize(S)\n",
    "print(lesk(S_tok, 'bank', 'n'))"
   ]
  },
  {
   "cell_type": "code",
   "execution_count": 17,
   "id": "868bd04a",
   "metadata": {},
   "outputs": [
    {
     "name": "stdout",
     "output_type": "stream",
     "text": [
      "Synset('birthday.n.01')\n"
     ]
    }
   ],
   "source": [
    "S = \"She created a big mess of the birthday cake\"\n",
    "S_tok = word_tokenize(S)\n",
    "print(lesk(S_tok, 'birthday', 'n'))"
   ]
  },
  {
   "cell_type": "code",
   "execution_count": 20,
   "id": "e31dd531",
   "metadata": {},
   "outputs": [
    {
     "name": "stdout",
     "output_type": "stream",
     "text": [
      "Synset('safety.n.01')\n"
     ]
    }
   ],
   "source": [
    "S = \"In the interest of your safety, please wear your seatbelt. \"\n",
    "S_tok = word_tokenize(S)\n",
    "print(lesk(S_tok, 'safety', 'n'))\n"
   ]
  },
  {
   "cell_type": "code",
   "execution_count": 21,
   "id": "ca39628d",
   "metadata": {},
   "outputs": [
    {
     "name": "stdout",
     "output_type": "stream",
     "text": [
      "Synset('water_system.n.02')\n"
     ]
    }
   ],
   "source": [
    "S = \"I drank some ice cold water \"\n",
    "S_tok = word_tokenize(S)\n",
    "print(lesk(S_tok, 'water', 'n'))"
   ]
  },
  {
   "cell_type": "code",
   "execution_count": 45,
   "id": "e78b9dfa",
   "metadata": {},
   "outputs": [
    {
     "data": {
      "text/plain": [
       "'rock'"
      ]
     },
     "execution_count": 45,
     "metadata": {},
     "output_type": "execute_result"
    }
   ],
   "source": [
    "wnLemmatizer = WordNetLemmatizer()\n",
    "wnLemmatizer.lemmatize('rocks', 'n') "
   ]
  },
  {
   "cell_type": "code",
   "execution_count": 68,
   "id": "78f21859",
   "metadata": {},
   "outputs": [
    {
     "name": "stdout",
     "output_type": "stream",
     "text": [
      "Synset('savings_bank.n.02')\n"
     ]
    }
   ],
   "source": [
    "S = \"I went to the banks to deposit some money.\"\n",
    "S_tok = word_tokenize(S)\n",
    "newText = []\n",
    "print(mylesk(S_tok, 'bank', 'n'))\n",
    "#En este caso no va a cambiar mucho ya que no hay un cambio verbal importante en las palabras"
   ]
  },
  {
   "cell_type": "code",
   "execution_count": null,
   "id": "3c38c8f9",
   "metadata": {},
   "outputs": [],
   "source": []
  }
 ],
 "metadata": {
  "kernelspec": {
   "display_name": "Python 3",
   "language": "python",
   "name": "python3"
  },
  "language_info": {
   "codemirror_mode": {
    "name": "ipython",
    "version": 3
   },
   "file_extension": ".py",
   "mimetype": "text/x-python",
   "name": "python",
   "nbconvert_exporter": "python",
   "pygments_lexer": "ipython3",
   "version": "3.9.5"
  }
 },
 "nbformat": 4,
 "nbformat_minor": 5
}
